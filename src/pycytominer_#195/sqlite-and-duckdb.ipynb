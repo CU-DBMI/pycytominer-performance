{
 "cells": [
  {
   "cell_type": "markdown",
   "id": "950acb1c-9121-4328-9b7c-510dd2cf38a8",
   "metadata": {},
   "source": [
    "# Interact with SQLite and DuckDB"
   ]
  },
  {
   "cell_type": "code",
   "execution_count": null,
   "id": "6cde6274-3231-4c9d-a86f-b334faf9eaac",
   "metadata": {},
   "outputs": [],
   "source": [
    "!pip install duckdb"
   ]
  },
  {
   "cell_type": "code",
   "execution_count": null,
   "id": "b0d9f1ff-cb37-4836-bb6f-42e84f90652c",
   "metadata": {},
   "outputs": [],
   "source": [
    "import sqlite3\n",
    "\n",
    "import duckdb\n",
    "import pandas as pd"
   ]
  },
  {
   "cell_type": "code",
   "execution_count": null,
   "id": "a17e4cbc-3b86-4b9a-a47a-c49d4a8300b9",
   "metadata": {},
   "outputs": [],
   "source": [
    "# create connections for sqlite and duckdb\n",
    "generator_duckdb_conn = duckdb.connect(database=\":memory:\")\n",
    "duckdb_conn = duckdb.connect(database=\"example.duckdb\")\n",
    "sqlite_conn = sqlite3.connect(\"example.sqlite\")"
   ]
  },
  {
   "cell_type": "code",
   "execution_count": null,
   "id": "f29ac2c8-4da5-405e-8b1c-b2870230173b",
   "metadata": {},
   "outputs": [],
   "source": [
    "# generate synthetic data\n",
    "generator_duckdb_conn.execute(\"CALL dbgen(sf=0.1);\")"
   ]
  },
  {
   "cell_type": "code",
   "execution_count": null,
   "id": "e983becc-46aa-40a7-bd46-0548e32501ef",
   "metadata": {},
   "outputs": [],
   "source": [
    "generator_duckdb_conn.execute(\"show tables;\").df()"
   ]
  },
  {
   "cell_type": "code",
   "execution_count": null,
   "id": "f0cf840b-10f6-4725-aa9d-1353ea6af573",
   "metadata": {},
   "outputs": [],
   "source": [
    "generator_duckdb_conn.execute(\"describe orders;\").df()"
   ]
  },
  {
   "cell_type": "code",
   "execution_count": null,
   "id": "6275d205-b476-42c3-94b7-847a9b501cc3",
   "metadata": {},
   "outputs": [],
   "source": [
    "generator_duckdb_conn.execute(\"select * from orders;\").df()"
   ]
  },
  {
   "cell_type": "code",
   "execution_count": null,
   "id": "425c37dc-e952-4646-8181-691e774bca24",
   "metadata": {},
   "outputs": [],
   "source": [
    "# export tables from generator duckdb in-mem database to sqlite database\n",
    "for table in generator_duckdb_conn.execute(\"show tables;\").df()[\"name\"].values.tolist():\n",
    "    print(f\"Exporting {table} table data from duckdb generator connection to sqlite\")\n",
    "    generator_duckdb_conn.execute(f\"select * from {table};\").df().to_sql(\n",
    "        name=table, con=sqlite_conn, if_exists=\"replace\", index=False\n",
    "    )"
   ]
  },
  {
   "cell_type": "code",
   "execution_count": null,
   "id": "10d34999-1b6d-46d8-ae76-da820b8ef8cb",
   "metadata": {},
   "outputs": [],
   "source": [
    "# close generator connection\n",
    "generator_duckdb_conn.close()"
   ]
  },
  {
   "cell_type": "code",
   "execution_count": null,
   "id": "13095d4d-e407-4b04-bc2c-7cab50291a62",
   "metadata": {},
   "outputs": [],
   "source": [
    "pd.read_sql(\n",
    "    sql=\"SELECT name FROM sqlite_schema WHERE type ='table'\", con=sqlite_conn\n",
    ").values.tolist()"
   ]
  },
  {
   "cell_type": "code",
   "execution_count": null,
   "id": "d488baf6-332b-4e54-8d7b-2c584066cf8d",
   "metadata": {},
   "outputs": [],
   "source": [
    "# export data from sqlite tables to duckdb database\n",
    "for table in pd.read_sql(\n",
    "    sql=\"SELECT name FROM sqlite_schema WHERE type ='table'\", con=sqlite_conn\n",
    ")[\"name\"].values.tolist():\n",
    "    df = pd.read_sql(sql=f\"select * from {table}\", con=sqlite_conn)\n",
    "    duckdb_conn.execute(f\"CREATE TABLE IF NOT EXISTS {table} AS SELECT * FROM df\")"
   ]
  },
  {
   "cell_type": "code",
   "execution_count": null,
   "id": "a74d35b0-e40e-42b5-ac1f-affb95a8bec5",
   "metadata": {},
   "outputs": [],
   "source": [
    "duckdb_conn.execute(\"select * from orders;\").df()"
   ]
  },
  {
   "cell_type": "code",
   "execution_count": null,
   "id": "eae8f4a9-1149-4e7c-a108-0ee1f9d16738",
   "metadata": {},
   "outputs": [],
   "source": [
    "# close connections\n",
    "sqlite_conn.close()\n",
    "duckdb_conn.close()"
   ]
  },
  {
   "cell_type": "code",
   "execution_count": null,
   "id": "e44869fc-0a38-474d-812e-3963fc49b460",
   "metadata": {},
   "outputs": [],
   "source": [
    "# show relative filesizes\n",
    "!ls -lh ./ | egrep \"\\.(duckdb|sqlite)\""
   ]
  }
 ],
 "metadata": {
  "kernelspec": {
   "display_name": "Python 3 (ipykernel)",
   "language": "python",
   "name": "python3"
  },
  "language_info": {
   "codemirror_mode": {
    "name": "ipython",
    "version": 3
   },
   "file_extension": ".py",
   "mimetype": "text/x-python",
   "name": "python",
   "nbconvert_exporter": "python",
   "pygments_lexer": "ipython3",
   "version": "3.9.12"
  }
 },
 "nbformat": 4,
 "nbformat_minor": 5
}
