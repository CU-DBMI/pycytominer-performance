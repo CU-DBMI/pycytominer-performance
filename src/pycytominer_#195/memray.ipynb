{
 "cells": [
  {
   "cell_type": "code",
   "execution_count": null,
   "id": "05fa4fe4-2532-42e7-a409-7ce7df2bd736",
   "metadata": {},
   "outputs": [],
   "source": [
    "!echo $PWD"
   ]
  },
  {
   "cell_type": "code",
   "execution_count": null,
   "id": "72f2dfc5-8687-4668-9660-00dd8f8c66c8",
   "metadata": {},
   "outputs": [],
   "source": [
    "!python -m memray run test_cells_memory_memray.py"
   ]
  },
  {
   "cell_type": "code",
   "execution_count": null,
   "id": "1a13c657-03b3-4af3-8c16-8f745f1d1baf",
   "metadata": {},
   "outputs": [],
   "source": [
    "!python -m memray flamegraph memray-test_cells_memory_memray.py.93.bin"
   ]
  },
  {
   "cell_type": "code",
   "execution_count": null,
   "id": "5c4d2071-8344-434a-9e64-76fee30a1588",
   "metadata": {},
   "outputs": [],
   "source": [
    "!python -m memray stats memray-test_cells_memory_memray.py.93.bin"
   ]
  },
  {
   "cell_type": "code",
   "execution_count": null,
   "id": "2e5cf8d2-276d-47a6-a9be-3ffee2e072a8",
   "metadata": {},
   "outputs": [],
   "source": [
    "!python -m memray tree memray-test_cells_memory_memray.py.93.bin"
   ]
  }
 ],
 "metadata": {
  "kernelspec": {
   "display_name": "Python 3 (ipykernel)",
   "language": "python",
   "name": "python3"
  },
  "language_info": {
   "codemirror_mode": {
    "name": "ipython",
    "version": 3
   },
   "file_extension": ".py",
   "mimetype": "text/x-python",
   "name": "python",
   "nbconvert_exporter": "python",
   "pygments_lexer": "ipython3",
   "version": "3.9.12"
  }
 },
 "nbformat": 4,
 "nbformat_minor": 5
}
