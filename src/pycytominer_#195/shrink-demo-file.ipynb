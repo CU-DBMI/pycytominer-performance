{
 "cells": [
  {
   "cell_type": "markdown",
   "id": "950acb1c-9121-4328-9b7c-510dd2cf38a8",
   "metadata": {},
   "source": [
    "# Shrink Demo File"
   ]
  },
  {
   "cell_type": "code",
   "execution_count": null,
   "id": "b0d9f1ff-cb37-4836-bb6f-42e84f90652c",
   "metadata": {},
   "outputs": [],
   "source": [
    "import sqlite3\n",
    "\n",
    "import pandas as pd"
   ]
  },
  {
   "cell_type": "code",
   "execution_count": null,
   "id": "a17e4cbc-3b86-4b9a-a47a-c49d4a8300b9",
   "metadata": {},
   "outputs": [],
   "source": [
    "# create connections for sqlite\n",
    "\n",
    "sqlite_conn = sqlite3.connect(\"SQ00014613.sqlite\")"
   ]
  },
  {
   "cell_type": "code",
   "execution_count": null,
   "id": "3d938ffa-7b09-4e28-adb5-ea65966fe5ea",
   "metadata": {},
   "outputs": [],
   "source": [
    "delete_statement = \"\"\"\n",
    "Delete from Image \n",
    "limit 3425\n",
    "\"\"\"\n",
    "sqlite_conn.execute(delete_statement)"
   ]
  },
  {
   "cell_type": "code",
   "execution_count": null,
   "id": "bae6aa4c-c2f4-4973-9885-f2df201ea8b2",
   "metadata": {},
   "outputs": [],
   "source": [
    "sqlite_conn.commit()"
   ]
  },
  {
   "cell_type": "code",
   "execution_count": null,
   "id": "5415d7ee-8ea0-445c-bb7d-dc641f12c1f9",
   "metadata": {},
   "outputs": [],
   "source": [
    "delete_statement = \"\"\"\n",
    "select count(*) from Image\n",
    "\"\"\"\n",
    "sqlite_conn.execute(delete_statement).fetchall()"
   ]
  },
  {
   "cell_type": "code",
   "execution_count": null,
   "id": "065610c1-afca-4e24-a70d-66f41b54070b",
   "metadata": {},
   "outputs": [],
   "source": [
    "delete_statement = \"\"\"\n",
    "Delete from Cytoplasm \n",
    "where TableNumber not in (select TableNumber from Image)\n",
    "\"\"\"\n",
    "sqlite_conn.execute(delete_statement)\n",
    "sqlite_conn.commit()"
   ]
  },
  {
   "cell_type": "code",
   "execution_count": null,
   "id": "3c4e759a-d9d0-4075-a679-5dd4669881c7",
   "metadata": {},
   "outputs": [],
   "source": [
    "delete_statement = \"\"\"\n",
    "Delete from Nuclei \n",
    "where TableNumber not in (select TableNumber from Image)\n",
    "\"\"\"\n",
    "sqlite_conn.execute(delete_statement)\n",
    "sqlite_conn.commit()"
   ]
  },
  {
   "cell_type": "code",
   "execution_count": null,
   "id": "ac22bade-70a7-4623-9be1-76603ed594cd",
   "metadata": {},
   "outputs": [],
   "source": [
    "delete_statement = \"\"\"\n",
    "Delete from Cells \n",
    "where TableNumber not in (select TableNumber from Image)\n",
    "\"\"\"\n",
    "sqlite_conn.execute(delete_statement)\n",
    "sqlite_conn.commit()"
   ]
  },
  {
   "cell_type": "code",
   "execution_count": null,
   "id": "eae8f4a9-1149-4e7c-a108-0ee1f9d16738",
   "metadata": {},
   "outputs": [],
   "source": [
    "# close connections\n",
    "sqlite_conn.close()"
   ]
  },
  {
   "cell_type": "code",
   "execution_count": null,
   "id": "e44869fc-0a38-474d-812e-3963fc49b460",
   "metadata": {},
   "outputs": [],
   "source": [
    "# show relative filesizes\n",
    "!ls -lh ./ | grep sqlite"
   ]
  }
 ],
 "metadata": {
  "kernelspec": {
   "display_name": "Python 3 (ipykernel)",
   "language": "python",
   "name": "python3"
  },
  "language_info": {
   "codemirror_mode": {
    "name": "ipython",
    "version": 3
   },
   "file_extension": ".py",
   "mimetype": "text/x-python",
   "name": "python",
   "nbconvert_exporter": "python",
   "pygments_lexer": "ipython3",
   "version": "3.9.12"
  }
 },
 "nbformat": 4,
 "nbformat_minor": 5
}
