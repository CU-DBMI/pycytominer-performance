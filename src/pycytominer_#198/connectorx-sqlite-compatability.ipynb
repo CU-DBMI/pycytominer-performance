{
 "cells": [
  {
   "cell_type": "markdown",
   "id": "bfdb3175-5e55-464d-9846-3c003488d445",
   "metadata": {},
   "source": [
    "# ConnectorX SQLite Compatibility\n",
    "\n",
    "Remove notnull constraint, replace 'nan' with NULL's, as experiment towards compatibility."
   ]
  },
  {
   "cell_type": "code",
   "execution_count": null,
   "id": "20d8f7f4-ab82-48b8-8914-54a3e5ceb97e",
   "metadata": {},
   "outputs": [],
   "source": [
    "import connectorx as cx\n",
    "import pandas as pd\n",
    "from sqlalchemy import create_engine"
   ]
  },
  {
   "cell_type": "code",
   "execution_count": null,
   "id": "fc4d185b-f679-4b2e-a215-4713771a36f5",
   "metadata": {},
   "outputs": [],
   "source": [
    "db_filename = \"testing_err_SQ00014613.sqlite\"\n",
    "sqlite_err_conn = create_engine(f\"sqlite:///{db_filename}\").connect()\n",
    "connectorx_err_conn = f\"sqlite://{db_filename}\""
   ]
  },
  {
   "cell_type": "code",
   "execution_count": null,
   "id": "ca518142-5a78-4963-9c19-29d99083de84",
   "metadata": {},
   "outputs": [],
   "source": [
    "# known error\n",
    "query = \"\"\"\n",
    "select * from cytoplasm\n",
    "\"\"\"\n",
    "cx.read_sql(conn=connectorx_err_conn, query=query, return_type=\"pandas\")"
   ]
  },
  {
   "cell_type": "code",
   "execution_count": null,
   "id": "07dbe5cd-ad5f-4ff3-9421-ac27deec5217",
   "metadata": {},
   "outputs": [],
   "source": []
  }
 ],
 "metadata": {
  "kernelspec": {
   "display_name": "Python 3 (ipykernel)",
   "language": "python",
   "name": "python3"
  },
  "language_info": {
   "codemirror_mode": {
    "name": "ipython",
    "version": 3
   },
   "file_extension": ".py",
   "mimetype": "text/x-python",
   "name": "python",
   "nbconvert_exporter": "python",
   "pygments_lexer": "ipython3",
   "version": "3.9.12"
  }
 },
 "nbformat": 4,
 "nbformat_minor": 5
}
