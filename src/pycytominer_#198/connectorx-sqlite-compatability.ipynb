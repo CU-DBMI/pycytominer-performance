{
 "cells": [
  {
   "cell_type": "markdown",
   "id": "bfdb3175-5e55-464d-9846-3c003488d445",
   "metadata": {},
   "source": [
    "# ConnectorX SQLite Compatibility\n",
    "\n",
    "Remove notnull constraint, replace 'nan' with NULL's, as experiment towards compatibility."
   ]
  },
  {
   "cell_type": "code",
   "execution_count": null,
   "id": "20d8f7f4-ab82-48b8-8914-54a3e5ceb97e",
   "metadata": {},
   "outputs": [],
   "source": [
    "import connectorx as cx\n",
    "import pandas as pd\n",
    "from sqlalchemy import create_engine"
   ]
  },
  {
   "cell_type": "code",
   "execution_count": null,
   "id": "7035a742-65c5-4601-ae39-3ea2a243e0b6",
   "metadata": {},
   "outputs": [],
   "source": [
    "!cp testing_err_SQ00014613.sqlite testing_err_fixed_SQ00014613.sqlite"
   ]
  },
  {
   "cell_type": "code",
   "execution_count": null,
   "id": "fc4d185b-f679-4b2e-a215-4713771a36f5",
   "metadata": {},
   "outputs": [],
   "source": [
    "db_filename = \"testing_err_fixed_SQ00014613.sqlite\"\n",
    "sqlite_err_conn = create_engine(f\"sqlite:///{db_filename}\").connect()\n",
    "connectorx_err_conn = f\"sqlite://{db_filename}\""
   ]
  },
  {
   "cell_type": "code",
   "execution_count": null,
   "id": "ca518142-5a78-4963-9c19-29d99083de84",
   "metadata": {},
   "outputs": [],
   "source": [
    "# known error\n",
    "query = \"\"\"\n",
    "select * from cytoplasm\n",
    "\"\"\"\n",
    "cx.read_sql(conn=connectorx_err_conn, query=query, return_type=\"pandas\")"
   ]
  },
  {
   "cell_type": "code",
   "execution_count": null,
   "id": "07dbe5cd-ad5f-4ff3-9421-ac27deec5217",
   "metadata": {},
   "outputs": [],
   "source": [
    "sql_stmt = \"\"\"\n",
    "SELECT name, sql FROM sqlite_master WHERE type ='table'\n",
    "\"\"\"\n",
    "df = pd.read_sql(sql=sql_stmt, con=sqlite_err_conn).to_dict(orient=\"records\")\n",
    "for table in df:\n",
    "    table_name = table[\"name\"]\n",
    "    table_sql = table[\"sql\"]\n",
    "    print(f\"creating new table for {table_name}\")\n",
    "    # alter to rename the original table with prefix\n",
    "    sqlite_err_conn.execute(\n",
    "        statement=f\"alter table {table_name} rename to orig_{table_name}\"\n",
    "    )\n",
    "    # create new table with the original's name and removing all not null constraints\n",
    "    sqlite_err_conn.execute(statement=table_sql.replace(\"NOT NULL\", \"\"))\n",
    "    # copy data from original to new table\n",
    "    sqlite_err_conn.execute(\n",
    "        statement=f\"insert into {table_name} select * from orig_{table_name}\"\n",
    "    )\n",
    "    # delete original table\n",
    "    sqlite_err_conn.execute(statement=f\"drop table orig_{table_name}\")\n",
    "\n",
    "    # gather cols from table\n",
    "    col_names = pd.read_sql(\n",
    "        sql=f\"select name from pragma_table_info('{table_name}')\", con=sqlite_err_conn\n",
    "    )[\"name\"].values.tolist()\n",
    "\n",
    "    for col in col_names:\n",
    "        # update 'nan' values to NULL\n",
    "        sqlite_err_conn.execute(\n",
    "            statement=f\"update {table_name} set {col}=NULL where {col}='nan'\"\n",
    "        )"
   ]
  },
  {
   "cell_type": "code",
   "execution_count": null,
   "id": "eb27c0a1-7dc6-4a7d-be8c-da4d5c16162a",
   "metadata": {},
   "outputs": [],
   "source": [
    "pd.read_sql(sql=\"select * from cytoplasm\", con=sqlite_err_conn)[\n",
    "    \"Cytoplasm_Correlation_Costes_AGP_DNA\"\n",
    "]"
   ]
  },
  {
   "cell_type": "code",
   "execution_count": null,
   "id": "796d5e67-7780-4b60-a695-7229e427389b",
   "metadata": {},
   "outputs": [],
   "source": [
    "# known error\n",
    "query = \"\"\"\n",
    "select * from cytoplasm\n",
    "\"\"\"\n",
    "cx.read_sql(conn=connectorx_err_conn, query=query, return_type=\"pandas\")"
   ]
  },
  {
   "cell_type": "code",
   "execution_count": null,
   "id": "9e952351-08e7-4933-aed7-9f12ab2676c9",
   "metadata": {},
   "outputs": [],
   "source": []
  }
 ],
 "metadata": {
  "kernelspec": {
   "display_name": "Python 3 (ipykernel)",
   "language": "python",
   "name": "python3"
  },
  "language_info": {
   "codemirror_mode": {
    "name": "ipython",
    "version": 3
   },
   "file_extension": ".py",
   "mimetype": "text/x-python",
   "name": "python",
   "nbconvert_exporter": "python",
   "pygments_lexer": "ipython3",
   "version": "3.9.12"
  }
 },
 "nbformat": 4,
 "nbformat_minor": 5
}
