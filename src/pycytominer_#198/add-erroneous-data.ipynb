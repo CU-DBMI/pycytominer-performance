{
 "cells": [
  {
   "cell_type": "markdown",
   "id": "950acb1c-9121-4328-9b7c-510dd2cf38a8",
   "metadata": {},
   "source": [
    "# Add Erroneous Data\n",
    "\n",
    "Adding erroneous data to shrunk file for testing."
   ]
  },
  {
   "cell_type": "code",
   "execution_count": null,
   "id": "b0d9f1ff-cb37-4836-bb6f-42e84f90652c",
   "metadata": {},
   "outputs": [],
   "source": [
    "import sqlite3\n",
    "from sqlalchemy import create_engine\n",
    "import pandas as pd"
   ]
  },
  {
   "cell_type": "code",
   "execution_count": null,
   "id": "3e9e65f5-90b5-4d01-b8cd-8f25ff776f8f",
   "metadata": {},
   "outputs": [],
   "source": [
    "!cp testing_SQ00014613.sqlite testing_err_SQ00014613.sqlite"
   ]
  },
  {
   "cell_type": "code",
   "execution_count": null,
   "id": "a17e4cbc-3b86-4b9a-a47a-c49d4a8300b9",
   "metadata": {},
   "outputs": [],
   "source": [
    "# create connections for sqlite\n",
    "# reference: https://nih.figshare.com/articles/dataset/Cell_Health_-_Cell_Painting_Single_Cell_Profiles/9995672\n",
    "sqlite_err_conn = create_engine(\"sqlite:///testing_err_SQ00014613.sqlite\").connect()\n",
    "sqlite_orig_conn = create_engine(\"sqlite:///SQ00014613.sqlite\").connect()"
   ]
  },
  {
   "cell_type": "code",
   "execution_count": null,
   "id": "1c9591fd-bb80-469c-b6cf-a568fc97f625",
   "metadata": {},
   "outputs": [],
   "source": [
    "sql_stmt = \"\"\"\n",
    "select * from cytoplasm\n",
    "\"\"\"\n",
    "test_data = pd.read_sql(sql=sql_stmt, con=sqlite_err_conn)\n",
    "test_data"
   ]
  },
  {
   "cell_type": "code",
   "execution_count": null,
   "id": "3d938ffa-7b09-4e28-adb5-ea65966fe5ea",
   "metadata": {},
   "outputs": [],
   "source": [
    "sql_stmt = \"\"\"\n",
    "select * from cytoplasm where Cytoplasm_Correlation_Costes_AGP_DNA = 'nan' limit 1\n",
    "\"\"\"\n",
    "err_data = pd.read_sql(sql=sql_stmt, con=sqlite_orig_conn)\n",
    "err_data"
   ]
  },
  {
   "cell_type": "code",
   "execution_count": null,
   "id": "711f75ff-8388-45c1-acd5-40c2c446f83a",
   "metadata": {},
   "outputs": [],
   "source": [
    "err_data[\"Cytoplasm_Correlation_Costes_AGP_DNA\"]"
   ]
  },
  {
   "cell_type": "code",
   "execution_count": null,
   "id": "afe70ebf-5d54-4bd2-b067-c8ad1059c89a",
   "metadata": {},
   "outputs": [],
   "source": [
    "nan_data = err_data.apply(lambda x: \"nan\", axis=0).copy()\n",
    "nan_data = pd.DataFrame(nan_data).T"
   ]
  },
  {
   "cell_type": "code",
   "execution_count": null,
   "id": "ba68a376-e609-4435-b3fd-35d36537c2b6",
   "metadata": {},
   "outputs": [],
   "source": [
    "full_set = pd.concat([nan_data, err_data]).reset_index(drop=True)\n",
    "full_set"
   ]
  },
  {
   "cell_type": "code",
   "execution_count": null,
   "id": "bae6aa4c-c2f4-4973-9885-f2df201ea8b2",
   "metadata": {},
   "outputs": [],
   "source": [
    "err_data.to_sql(name=\"cytoplasm\", con=sqlite_err_conn, if_exists=\"replace\", index=False)"
   ]
  },
  {
   "cell_type": "code",
   "execution_count": null,
   "id": "5f08e8f0-3a8c-48a9-a6d1-91dbea484017",
   "metadata": {},
   "outputs": [],
   "source": [
    "pd.read_sql(sql=sql_stmt, con=sqlite_err_conn)"
   ]
  },
  {
   "cell_type": "code",
   "execution_count": null,
   "id": "eae8f4a9-1149-4e7c-a108-0ee1f9d16738",
   "metadata": {},
   "outputs": [],
   "source": [
    "# close connections\n",
    "sqlite_err_conn.close()\n",
    "sqlite_orig_conn.close()"
   ]
  },
  {
   "cell_type": "code",
   "execution_count": null,
   "id": "e44869fc-0a38-474d-812e-3963fc49b460",
   "metadata": {},
   "outputs": [],
   "source": [
    "# show relative filesizes\n",
    "!ls -lh ./ | grep sqlite"
   ]
  },
  {
   "cell_type": "code",
   "execution_count": null,
   "id": "d2b1f15b-ab38-4eaa-9e4f-b1ee81cf9716",
   "metadata": {},
   "outputs": [],
   "source": []
  }
 ],
 "metadata": {
  "kernelspec": {
   "display_name": "Python 3 (ipykernel)",
   "language": "python",
   "name": "python3"
  },
  "language_info": {
   "codemirror_mode": {
    "name": "ipython",
    "version": 3
   },
   "file_extension": ".py",
   "mimetype": "text/x-python",
   "name": "python",
   "nbconvert_exporter": "python",
   "pygments_lexer": "ipython3",
   "version": "3.9.12"
  }
 },
 "nbformat": 4,
 "nbformat_minor": 5
}
