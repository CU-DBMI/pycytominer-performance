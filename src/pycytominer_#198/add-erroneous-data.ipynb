{
 "cells": [
  {
   "cell_type": "markdown",
   "id": "950acb1c-9121-4328-9b7c-510dd2cf38a8",
   "metadata": {},
   "source": [
    "# Add Erroneous Data\n",
    "\n",
    "Adding erroneous data to shrunk file for testing."
   ]
  },
  {
   "cell_type": "code",
   "execution_count": null,
   "id": "b0d9f1ff-cb37-4836-bb6f-42e84f90652c",
   "metadata": {},
   "outputs": [],
   "source": [
    "import sqlite3\n",
    "\n",
    "import pandas as pd\n",
    "from sqlalchemy import create_engine"
   ]
  },
  {
   "cell_type": "code",
   "execution_count": null,
   "id": "3e9e65f5-90b5-4d01-b8cd-8f25ff776f8f",
   "metadata": {},
   "outputs": [],
   "source": [
    "!cp testing_SQ00014613.sqlite testing_err_SQ00014613.sqlite"
   ]
  },
  {
   "cell_type": "code",
   "execution_count": null,
   "id": "a17e4cbc-3b86-4b9a-a47a-c49d4a8300b9",
   "metadata": {},
   "outputs": [],
   "source": [
    "# create connections for sqlite\n",
    "# reference: https://nih.figshare.com/articles/dataset/Cell_Health_-_Cell_Painting_Single_Cell_Profiles/9995672\n",
    "sqlite_err_conn = create_engine(\"sqlite:///testing_err_SQ00014613.sqlite\").connect()"
   ]
  },
  {
   "cell_type": "code",
   "execution_count": null,
   "id": "f73696b8-6627-4f30-a80c-c58acd7b7291",
   "metadata": {},
   "outputs": [],
   "source": [
    "sql_stmt = \"\"\"\n",
    "UPDATE cytoplasm\n",
    "SET Cytoplasm_Correlation_Costes_AGP_DNA = 'nan'\n",
    "WHERE rowid = (select min(rowid) from cytoplasm);\n",
    "\"\"\"\n",
    "sqlite_err_conn.execute(statement=sql_stmt)"
   ]
  },
  {
   "cell_type": "code",
   "execution_count": null,
   "id": "5f08e8f0-3a8c-48a9-a6d1-91dbea484017",
   "metadata": {},
   "outputs": [],
   "source": [
    "sql_stmt = \"\"\"\n",
    "select * from cytoplasm\n",
    "\"\"\"\n",
    "pd.read_sql(sql=sql_stmt, con=sqlite_err_conn)[\"Cytoplasm_Correlation_Costes_AGP_DNA\"]"
   ]
  },
  {
   "cell_type": "code",
   "execution_count": null,
   "id": "eae8f4a9-1149-4e7c-a108-0ee1f9d16738",
   "metadata": {},
   "outputs": [],
   "source": [
    "# close connections\n",
    "sqlite_err_conn.close()"
   ]
  },
  {
   "cell_type": "code",
   "execution_count": null,
   "id": "e44869fc-0a38-474d-812e-3963fc49b460",
   "metadata": {},
   "outputs": [],
   "source": [
    "# show relative filesizes\n",
    "!ls -lh ./ | grep sqlite"
   ]
  },
  {
   "cell_type": "code",
   "execution_count": null,
   "id": "d2b1f15b-ab38-4eaa-9e4f-b1ee81cf9716",
   "metadata": {},
   "outputs": [],
   "source": []
  }
 ],
 "metadata": {
  "kernelspec": {
   "display_name": "Python 3 (ipykernel)",
   "language": "python",
   "name": "python3"
  },
  "language_info": {
   "codemirror_mode": {
    "name": "ipython",
    "version": 3
   },
   "file_extension": ".py",
   "mimetype": "text/x-python",
   "name": "python",
   "nbconvert_exporter": "python",
   "pygments_lexer": "ipython3",
   "version": "3.9.12"
  }
 },
 "nbformat": 4,
 "nbformat_minor": 5
}
