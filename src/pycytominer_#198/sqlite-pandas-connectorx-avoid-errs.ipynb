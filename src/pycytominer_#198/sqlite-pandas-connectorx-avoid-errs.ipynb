{
 "cells": [
  {
   "cell_type": "markdown",
   "id": "ef946836-ceb2-40cc-b8c1-863e543f9bcb",
   "metadata": {},
   "source": [
    "# SQLite, Pandas, and Connector-X - Avoiding Errors\n",
    "\n",
    "Seeking to avoid value type errors with SQLite and Pandas via [Connector-x](https://github.com/sfu-db/connector-x).\n",
    "\n",
    "Specifically: connectorx expects value types to match column types within sqlite. Within sample datasets used by pycytominer there are sometimes columns with numeric type and values with textual/non-numeric types, which results in errors.\n",
    "\n",
    "Reference:\n",
    "- https://github.com/sfu-db/connector-x/blob/main/Types.md#sqlite\n"
   ]
  },
  {
   "cell_type": "code",
   "execution_count": null,
   "id": "75585592-37d3-4bbc-a324-ea156025d51c",
   "metadata": {},
   "outputs": [],
   "source": [
    "import connectorx as cx\n",
    "import sqlite3\n",
    "import pandas as pd"
   ]
  },
  {
   "cell_type": "code",
   "execution_count": null,
   "id": "22980649-55e9-465f-a35e-2ad91d4e0d77",
   "metadata": {},
   "outputs": [],
   "source": [
    "# original reference: https://nih.figshare.com/articles/dataset/Cell_Health_-_Cell_Painting_Single_Cell_Profiles/9995672\n",
    "# testing file generated from shrink-demo-file.ipynb\n",
    "db_filename = \"testing_err_SQ00014613.sqlite\"\n",
    "query = \"select * from Cytoplasm\""
   ]
  },
  {
   "cell_type": "code",
   "execution_count": null,
   "id": "0e0499a4-803c-449e-a9a4-bbac395254fd",
   "metadata": {},
   "outputs": [],
   "source": [
    "cx.read_sql(conn=f\"sqlite://{db_filename}\", query=query, return_type=\"pandas\")"
   ]
  },
  {
   "cell_type": "code",
   "execution_count": null,
   "id": "6490d2b1-3667-4219-889d-5572e39ba17d",
   "metadata": {},
   "outputs": [],
   "source": [
    "sqlite_conn = sqlite3.connect(database=db_filename)\n",
    "pd.read_sql(sql=query, con=sqlite_conn)"
   ]
  },
  {
   "cell_type": "code",
   "execution_count": null,
   "id": "23757b3b-a4dd-4056-83d1-bdc7c59c32e3",
   "metadata": {},
   "outputs": [],
   "source": []
  }
 ],
 "metadata": {
  "kernelspec": {
   "display_name": "Python 3 (ipykernel)",
   "language": "python",
   "name": "python3"
  },
  "language_info": {
   "codemirror_mode": {
    "name": "ipython",
    "version": 3
   },
   "file_extension": ".py",
   "mimetype": "text/x-python",
   "name": "python",
   "nbconvert_exporter": "python",
   "pygments_lexer": "ipython3",
   "version": "3.9.12"
  }
 },
 "nbformat": 4,
 "nbformat_minor": 5
}
