{
 "cells": [
  {
   "cell_type": "markdown",
   "id": "90a7671c-c462-4394-b2e8-cdb1f4cdb1c3",
   "metadata": {},
   "source": [
    "# NaN Handling with SQLite and Pandas\n",
    "\n",
    "Explore how 'nan' values within SQLite are handled by Pandas."
   ]
  },
  {
   "cell_type": "code",
   "execution_count": null,
   "id": "82db8753-9cc2-430c-9d41-4a55613c6943",
   "metadata": {},
   "outputs": [],
   "source": [
    "import sqlite3\n",
    "\n",
    "import pandas as pd\n",
    "from sqlalchemy import create_engine"
   ]
  },
  {
   "cell_type": "code",
   "execution_count": null,
   "id": "1584f0e3-a8c8-49ab-a81c-e95f07b7736a",
   "metadata": {},
   "outputs": [],
   "source": [
    "# create connections for sqlite\n",
    "# reference: https://nih.figshare.com/articles/dataset/Cell_Health_-_Cell_Painting_Single_Cell_Profiles/9995672\n",
    "sqlite_err_conn = create_engine(\"sqlite:///testing_err_SQ00014613.sqlite\").connect()\n",
    "sqlite_err_fixed_conn = create_engine(\n",
    "    \"sqlite:///testing_err_fixed_SQ00014613.sqlite\"\n",
    ").connect()"
   ]
  },
  {
   "cell_type": "markdown",
   "id": "e78dc7f1-877e-49a8-b976-563ababf0e9d",
   "metadata": {},
   "source": [
    "## Using Table with 'nan' As-is (string values in affinity float column)"
   ]
  },
  {
   "cell_type": "code",
   "execution_count": null,
   "id": "da134300-e7e2-4fec-8d09-e0664f6987b2",
   "metadata": {},
   "outputs": [],
   "source": [
    "sql_stmt = \"\"\"\n",
    "select \n",
    "    Cytoplasm_Correlation_Costes_AGP_DNA, \n",
    "    typeof(Cytoplasm_Correlation_Costes_AGP_DNA)\n",
    "from cytoplasm\n",
    "limit 2 \n",
    "\"\"\"\n",
    "sqlite_err_conn.execute(statement=sql_stmt).fetchall()"
   ]
  },
  {
   "cell_type": "code",
   "execution_count": null,
   "id": "a65fb9b2-0f4f-49ba-9522-1c4e329fda4e",
   "metadata": {},
   "outputs": [],
   "source": [
    "sql_stmt = \"\"\"\n",
    "select * from cytoplasm\n",
    "\"\"\"\n",
    "df = pd.read_sql(sql=sql_stmt, con=sqlite_err_conn)\n",
    "df[\"Cytoplasm_Correlation_Costes_AGP_DNA\"].iloc[0]"
   ]
  },
  {
   "cell_type": "code",
   "execution_count": null,
   "id": "7c77a872-15dd-40bd-96e3-cacc7f94dfb7",
   "metadata": {},
   "outputs": [],
   "source": [
    "type(df[\"Cytoplasm_Correlation_Costes_AGP_DNA\"].iloc[0])"
   ]
  },
  {
   "cell_type": "code",
   "execution_count": null,
   "id": "a9ffdeb1-b5a4-425c-b2cc-1cc95b365c46",
   "metadata": {},
   "outputs": [],
   "source": [
    "df[\"Cytoplasm_Correlation_Costes_AGP_DNA\"].iloc[1]"
   ]
  },
  {
   "cell_type": "code",
   "execution_count": null,
   "id": "7ee1c46a-dc79-401b-8156-4f2672ef2ccc",
   "metadata": {},
   "outputs": [],
   "source": [
    "type(df[\"Cytoplasm_Correlation_Costes_AGP_DNA\"].iloc[1])"
   ]
  },
  {
   "cell_type": "code",
   "execution_count": null,
   "id": "1e3a04d3-6296-4d0e-8d20-fba546cbcf8f",
   "metadata": {},
   "outputs": [],
   "source": [
    "df[\"Cytoplasm_Correlation_Costes_AGP_DNA\"].dtype"
   ]
  },
  {
   "cell_type": "markdown",
   "id": "c7db9a79-6ac8-40c9-b023-f03e2acef286",
   "metadata": {},
   "source": [
    "## Using Table with 'nan' Converted to SQLite NULL"
   ]
  },
  {
   "cell_type": "code",
   "execution_count": null,
   "id": "15c9def3-fc40-48b7-b8dd-d0fcbe207685",
   "metadata": {},
   "outputs": [],
   "source": [
    "sql_stmt = \"\"\"\n",
    "select \n",
    "    Cytoplasm_Correlation_Costes_AGP_DNA, \n",
    "    typeof(Cytoplasm_Correlation_Costes_AGP_DNA)\n",
    "from cytoplasm\n",
    "limit 2 \n",
    "\"\"\"\n",
    "sqlite_err_fixed_conn.execute(statement=sql_stmt).fetchall()"
   ]
  },
  {
   "cell_type": "code",
   "execution_count": null,
   "id": "7aaf3d51-fa52-47d6-831b-e12df232c4c5",
   "metadata": {},
   "outputs": [],
   "source": [
    "sql_stmt = \"\"\"\n",
    "select * from cytoplasm\n",
    "\"\"\"\n",
    "df = pd.read_sql(sql=sql_stmt, con=sqlite_err_fixed_conn)\n",
    "df[\"Cytoplasm_Correlation_Costes_AGP_DNA\"].iloc[0]"
   ]
  },
  {
   "cell_type": "code",
   "execution_count": null,
   "id": "6444fb88-031b-4fd5-912f-4a0d6a9c7339",
   "metadata": {},
   "outputs": [],
   "source": [
    "type(df[\"Cytoplasm_Correlation_Costes_AGP_DNA\"].iloc[0])"
   ]
  },
  {
   "cell_type": "code",
   "execution_count": null,
   "id": "f8837396-5154-4285-84ee-fe636019ba3d",
   "metadata": {},
   "outputs": [],
   "source": [
    "df[\"Cytoplasm_Correlation_Costes_AGP_DNA\"].iloc[1]"
   ]
  },
  {
   "cell_type": "code",
   "execution_count": null,
   "id": "20f1d54a-f39d-48f1-8b8f-5db0d22006f0",
   "metadata": {},
   "outputs": [],
   "source": [
    "type(df[\"Cytoplasm_Correlation_Costes_AGP_DNA\"].iloc[1])"
   ]
  },
  {
   "cell_type": "code",
   "execution_count": null,
   "id": "b6b7ebf6-f312-4ef8-ae74-4753edfd84e7",
   "metadata": {},
   "outputs": [],
   "source": [
    "df[\"Cytoplasm_Correlation_Costes_AGP_DNA\"].dtype"
   ]
  }
 ],
 "metadata": {
  "kernelspec": {
   "display_name": "Python 3 (ipykernel)",
   "language": "python",
   "name": "python3"
  },
  "language_info": {
   "codemirror_mode": {
    "name": "ipython",
    "version": 3
   },
   "file_extension": ".py",
   "mimetype": "text/x-python",
   "name": "python",
   "nbconvert_exporter": "python",
   "pygments_lexer": "ipython3",
   "version": "3.9.12"
  }
 },
 "nbformat": 4,
 "nbformat_minor": 5
}
