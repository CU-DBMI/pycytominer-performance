{
 "cells": [
  {
   "cell_type": "markdown",
   "id": "ef946836-ceb2-40cc-b8c1-863e543f9bcb",
   "metadata": {},
   "source": [
    "# SQLite, Pandas, and Connector-X\n",
    "\n",
    "Seeking to improve existing read time and memory consumption with SQLite and Pandas via [Connector-x](https://github.com/sfu-db/connector-x)."
   ]
  },
  {
   "cell_type": "code",
   "execution_count": null,
   "id": "75585592-37d3-4bbc-a324-ea156025d51c",
   "metadata": {},
   "outputs": [],
   "source": [
    "import resource\n",
    "import sqlite3\n",
    "import timeit\n",
    "import tracemalloc\n",
    "from typing import Callable\n",
    "\n",
    "import connectorx as cx\n",
    "import pandas as pd\n",
    "from sqlalchemy import create_engine"
   ]
  },
  {
   "cell_type": "code",
   "execution_count": null,
   "id": "22980649-55e9-465f-a35e-2ad91d4e0d77",
   "metadata": {},
   "outputs": [],
   "source": [
    "# original reference: https://nih.figshare.com/articles/dataset/Cell_Health_-_Cell_Painting_Single_Cell_Profiles/9995672\n",
    "# testing file generated from shrink-demo-file.ipynb\n",
    "db_filename = \"testing_SQ00014613.sqlite\"\n",
    "query = \"select * from Cells\""
   ]
  },
  {
   "cell_type": "code",
   "execution_count": null,
   "id": "f9e7ff3b-0c16-4675-a860-56c18b5c327e",
   "metadata": {},
   "outputs": [],
   "source": [
    "# create a timeit function which we'll keep standard throughout benchmarking\n",
    "def test_timeit(func: Callable):\n",
    "    func_name = func.__name__\n",
    "    print(\"Timing:\", func.__name__)\n",
    "    print(\n",
    "        \"Took:\", timeit.timeit(f\"{func_name}()\", globals=globals(), number=5), \"seconds\"\n",
    "    )"
   ]
  },
  {
   "cell_type": "code",
   "execution_count": null,
   "id": "921cd127-fa19-4933-a319-91b9e3dacace",
   "metadata": {},
   "outputs": [],
   "source": [
    "# create a timeit function which we'll keep standard throughout benchmarking\n",
    "def test_memory(func: Callable):\n",
    "    tracemalloc.reset_peak()\n",
    "    tracemalloc.start()\n",
    "    print(\"Tracing:\", func.__name__)\n",
    "    func()\n",
    "    cur_mem, peak_mem = tracemalloc.get_traced_memory()\n",
    "    peak_mem_mb = peak_mem / 1024 / 1024\n",
    "    print(\"Used:\", peak_mem_mb, \"MB\", \"peak memory\")"
   ]
  },
  {
   "cell_type": "code",
   "execution_count": null,
   "id": "31a1e631-7169-4e86-be7a-0ec6b5773e1e",
   "metadata": {},
   "outputs": [],
   "source": [
    "# sqlite test\n",
    "def sqlite3_test():\n",
    "    sqlite_conn = sqlite3.connect(database=db_filename)\n",
    "    pd.read_sql(sql=query, con=sqlite_conn)"
   ]
  },
  {
   "cell_type": "code",
   "execution_count": null,
   "id": "298e1839-d149-41ac-9960-b995c3fab817",
   "metadata": {},
   "outputs": [],
   "source": [
    "# sqlalchemy test\n",
    "def sqlalchemy_test():\n",
    "    sqlalchemy_engine = create_engine(url=f\"sqlite:///{db_filename}\")\n",
    "    sqlalchemy_conn = sqlalchemy_engine.connect()\n",
    "    pd.read_sql(sql=query, con=sqlalchemy_conn)"
   ]
  },
  {
   "cell_type": "code",
   "execution_count": null,
   "id": "f015f0e1-15bd-4db6-82de-353695f7dafb",
   "metadata": {},
   "outputs": [],
   "source": [
    "# connectorx test\n",
    "def connectorx_test():\n",
    "    cx.read_sql(conn=f\"sqlite://{db_filename}\", query=query, return_type=\"pandas\")"
   ]
  },
  {
   "cell_type": "code",
   "execution_count": null,
   "id": "670cfce5-bf23-4000-8271-c6b24b8ae028",
   "metadata": {},
   "outputs": [],
   "source": [
    "test_timeit(sqlite3_test)\n",
    "test_memory(sqlite3_test)"
   ]
  },
  {
   "cell_type": "code",
   "execution_count": null,
   "id": "cc909487-7701-4724-908e-fdaa649185ee",
   "metadata": {},
   "outputs": [],
   "source": [
    "test_timeit(sqlalchemy_test)\n",
    "test_memory(sqlalchemy_test)"
   ]
  },
  {
   "cell_type": "code",
   "execution_count": null,
   "id": "95ec6fad-c80f-47f6-9c3d-348c12c5c0b4",
   "metadata": {},
   "outputs": [],
   "source": [
    "test_timeit(connectorx_test)\n",
    "test_memory(connectorx_test)"
   ]
  }
 ],
 "metadata": {
  "kernelspec": {
   "display_name": "Python 3 (ipykernel)",
   "language": "python",
   "name": "python3"
  },
  "language_info": {
   "codemirror_mode": {
    "name": "ipython",
    "version": 3
   },
   "file_extension": ".py",
   "mimetype": "text/x-python",
   "name": "python",
   "nbconvert_exporter": "python",
   "pygments_lexer": "ipython3",
   "version": "3.9.12"
  }
 },
 "nbformat": 4,
 "nbformat_minor": 5
}
