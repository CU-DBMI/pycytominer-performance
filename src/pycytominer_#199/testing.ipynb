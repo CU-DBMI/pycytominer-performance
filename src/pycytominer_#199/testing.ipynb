{
 "cells": [
  {
   "cell_type": "code",
   "execution_count": 44,
   "id": "98618118-b0d6-4498-809d-2fde463a7b91",
   "metadata": {},
   "outputs": [
    {
     "data": {
      "text/plain": [
       "{'a': 'b', 'c': 'd', 'z': 'g'}"
      ]
     },
     "execution_count": 44,
     "metadata": {},
     "output_type": "execute_result"
    }
   ],
   "source": [
    "dict_1 = {\"a\": \"b\", \"c\": \"d\", \"z\": \"g\"}\n",
    "dict_2 = {\"b\": \"e\", \"d\": \"f\", \"p\": \"t\"}\n",
    "\n",
    "# dict_3 should equal {\"a\":\"e\", \"c\":\"f\"}\n",
    "\n",
    "{key: val for key, val in dict_1.items()}"
   ]
  },
  {
   "cell_type": "code",
   "execution_count": 45,
   "id": "43adf84d-1ae4-44b2-bf47-b0646c5fea30",
   "metadata": {},
   "outputs": [
    {
     "data": {
      "text/plain": [
       "['b', 'd']"
      ]
     },
     "execution_count": 45,
     "metadata": {},
     "output_type": "execute_result"
    }
   ],
   "source": [
    "[x for x in dict_1.values() if x in dict_2.keys()]"
   ]
  },
  {
   "cell_type": "code",
   "execution_count": 46,
   "id": "668fe69a-92f6-4ee5-af19-513130eb8943",
   "metadata": {},
   "outputs": [
    {
     "data": {
      "text/plain": [
       "{'p': 't', 'a': 'e', 'c': 'f'}"
      ]
     },
     "execution_count": 46,
     "metadata": {},
     "output_type": "execute_result"
    }
   ],
   "source": [
    "dict_3 = dict_2.copy()\n",
    "for key, val in dict_1.items():\n",
    "    if val in dict_3.keys():\n",
    "        dict_3[key] = dict_3[val]\n",
    "        dict_3.pop(val)\n",
    "dict_3"
   ]
  },
  {
   "cell_type": "code",
   "execution_count": 42,
   "id": "944cc521-6a4c-46ce-8137-a0217576a578",
   "metadata": {},
   "outputs": [
    {
     "data": {
      "text/plain": [
       "{'a': 'e', 'c': 'f', 'z': 'g'}"
      ]
     },
     "execution_count": 42,
     "metadata": {},
     "output_type": "execute_result"
    }
   ],
   "source": [
    "{\n",
    "    key: val if val not in dict_2.keys() else dict_2[val] for key, val in dict_1.items()\n",
    "}.update({key: val for key, val in dict_2.items()})"
   ]
  },
  {
   "cell_type": "code",
   "execution_count": 47,
   "id": "33685cc9-e1b6-423c-a2bd-910a2af2f417",
   "metadata": {},
   "outputs": [
    {
     "ename": "TypeError",
     "evalue": "join() missing 1 required positional argument: 'other'",
     "output_type": "error",
     "traceback": [
      "\u001b[0;31m---------------------------------------------------------------------------\u001b[0m",
      "\u001b[0;31mTypeError\u001b[0m                                 Traceback (most recent call last)",
      "Input \u001b[0;32mIn [47]\u001b[0m, in \u001b[0;36m<cell line: 2>\u001b[0;34m()\u001b[0m\n\u001b[1;32m      1\u001b[0m \u001b[38;5;28;01mimport\u001b[39;00m \u001b[38;5;21;01mpandas\u001b[39;00m \u001b[38;5;28;01mas\u001b[39;00m \u001b[38;5;21;01mpd\u001b[39;00m\n\u001b[0;32m----> 2\u001b[0m \u001b[43mpd\u001b[49m\u001b[38;5;241;43m.\u001b[39;49m\u001b[43mDataFrame\u001b[49m\u001b[43m(\u001b[49m\u001b[43m)\u001b[49m\u001b[38;5;241;43m.\u001b[39;49m\u001b[43mjoin\u001b[49m\u001b[43m(\u001b[49m\u001b[43m)\u001b[49m\n",
      "\u001b[0;31mTypeError\u001b[0m: join() missing 1 required positional argument: 'other'"
     ]
    }
   ],
   "source": [
    "import pandas as pd\n",
    "pd.DataFrame().join()"
   ]
  },
  {
   "cell_type": "code",
   "execution_count": null,
   "id": "ad5e07bd-7880-43e0-8895-78c171c22c21",
   "metadata": {},
   "outputs": [],
   "source": []
  }
 ],
 "metadata": {
  "kernelspec": {
   "display_name": "Python 3 (ipykernel)",
   "language": "python",
   "name": "python3"
  },
  "language_info": {
   "codemirror_mode": {
    "name": "ipython",
    "version": 3
   },
   "file_extension": ".py",
   "mimetype": "text/x-python",
   "name": "python",
   "nbconvert_exporter": "python",
   "pygments_lexer": "ipython3",
   "version": "3.9.12"
  }
 },
 "nbformat": 4,
 "nbformat_minor": 5
}
